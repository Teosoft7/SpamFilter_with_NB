{
 "cells": [
  {
   "cell_type": "markdown",
   "metadata": {},
   "source": [
    "## Simple Spam Filter"
   ]
  },
  {
   "cell_type": "markdown",
   "metadata": {},
   "source": [
    "import libraries"
   ]
  },
  {
   "cell_type": "code",
   "execution_count": 1,
   "metadata": {},
   "outputs": [],
   "source": [
    "import numpy as np\n",
    "\n",
    "from sklearn.feature_extraction.text import CountVectorizer\n",
    "from sklearn.naive_bayes import MultinomialNB"
   ]
  },
  {
   "cell_type": "markdown",
   "metadata": {},
   "source": [
    "Train Data SET (Need more, but let start with only 2)"
   ]
  },
  {
   "cell_type": "code",
   "execution_count": 2,
   "metadata": {},
   "outputs": [],
   "source": [
    "emails = [\n",
    "    \"\"\"From: Martha Washington <marthafirst@hotmail.com>\n",
    "Subject: Lunch\n",
    "Date: January 25, 1794 9:30:58 AM EST\n",
    "To: George Washington <president@whitehouse.gov>\n",
    "\n",
    "Looking forward to lunch at noon today. I reserved my MealPal at Nerds and Nibblers. Please don't forget to book yours. You know how much I hate standing in line.\n",
    "\n",
    " xoxo Martha 😻\n",
    "\"\"\",\n",
    "    \"\"\"From: Aaron Burr <aabear@aol.com>\n",
    "Subject: Quality meds, low price, quick delivery!\n",
    "Date: January 25, 1794 9:35:21 AM EST\n",
    "To: George Washington <president@whitehouse.gov>\n",
    "\n",
    "Not dead yet? We have the Viagra that you need!!!\n",
    "\n",
    "GUARANTEED BEST PRICE VIAGRA! WE HAVE QUICKSILVER TOO!!!\n",
    "\n",
    "CLICK HERE FOR VIAGRA! ORDER NOW!\n",
    "http://legit-pharmacy.ru/viagra-deals?ref=aabear\n",
    "\n",
    "\"\"\",\n",
    "]\n",
    "\n",
    "targets = ['msg', 'spam']\n"
   ]
  },
  {
   "cell_type": "code",
   "execution_count": 3,
   "metadata": {},
   "outputs": [],
   "source": [
    "# get CountVector with sklearn\n",
    "# only use two words : viagra, lunch\n",
    "vectorizer = CountVectorizer(vocabulary=['viagra', 'lunch'])\n",
    "counts = vectorizer.fit_transform(emails)"
   ]
  },
  {
   "cell_type": "code",
   "execution_count": 4,
   "metadata": {},
   "outputs": [
    {
     "data": {
      "text/plain": [
       "MultinomialNB(alpha=1.0, class_prior=None, fit_prior=True)"
      ]
     },
     "execution_count": 4,
     "metadata": {},
     "output_type": "execute_result"
    }
   ],
   "source": [
    "# Build classfier model using Binomial NaiveBayes with sklearn\n",
    "classifier = MultinomialNB()\n",
    "classifier.fit(counts, targets)"
   ]
  },
  {
   "cell_type": "code",
   "execution_count": 5,
   "metadata": {},
   "outputs": [
    {
     "data": {
      "text/plain": [
       "array(['msg', 'spam'], dtype='<U4')"
      ]
     },
     "execution_count": 5,
     "metadata": {},
     "output_type": "execute_result"
    }
   ],
   "source": [
    "# Test with samples\n",
    "samples = [\"Hi, how about a lunch tomorrow?\", 'Free Viagra now!!!']\n",
    "\n",
    "# Vectorize & Predict with our model\n",
    "samples_count = vectorizer.transform(samples)\n",
    "predict = classifier.predict(samples_count)\n",
    "predict"
   ]
  },
  {
   "cell_type": "code",
   "execution_count": null,
   "metadata": {},
   "outputs": [],
   "source": []
  }
 ],
 "metadata": {
  "kernelspec": {
   "display_name": "Python 3",
   "language": "python",
   "name": "python3"
  },
  "language_info": {
   "codemirror_mode": {
    "name": "ipython",
    "version": 3
   },
   "file_extension": ".py",
   "mimetype": "text/x-python",
   "name": "python",
   "nbconvert_exporter": "python",
   "pygments_lexer": "ipython3",
   "version": "3.7.0"
  }
 },
 "nbformat": 4,
 "nbformat_minor": 2
}
